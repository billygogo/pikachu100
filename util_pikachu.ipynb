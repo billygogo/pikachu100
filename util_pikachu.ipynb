{
 "cells": [
  {
   "cell_type": "markdown",
   "id": "2083fac3-47e4-47a4-b4d8-e8db08730f6d",
   "metadata": {},
   "source": [
    "1. draw3D 데이타 폼에 대해서 컬럼 x,y,z를 축으로 3차원 그래프를 그려주는 함수¶\n",
    "설치 방법 pip install plotly\n",
    "호출방법: draw3D(df,'num','day','use_electric')"
   ]
  },
  {
   "cell_type": "code",
   "execution_count": 1,
   "id": "0c837b99-bb71-4f4d-a8a3-10c673dd9fa1",
   "metadata": {},
   "outputs": [],
   "source": [
    "def draw3D(df, x, y, z, coloraxis = None):\n",
    "    import plotly.graph_objs as go\n",
    "    import numpy as np\n",
    "\n",
    "    # Create some random data\n",
    "    n = 100\n",
    "    # Define the color map\n",
    "    colorscale = [[0, 'blue'], [1./3, 'green'], [2./3, 'red'], [1, 'blue']]\n",
    "\n",
    "    if (coloraxis == None):\n",
    "        coloraxis = z\n",
    "    # Create the scatter plot with z-axis colored\n",
    "    fig = go.Figure(data=[go.Scatter3d(\n",
    "        x=df[x],\n",
    "        y=df[y],\n",
    "        z=df[z],\n",
    "        mode='markers',\n",
    "        marker=dict(\n",
    "            size=2,\n",
    "            color=df[coloraxis],\n",
    "            colorscale=colorscale,\n",
    "            opacity=0.8,\n",
    "            colorbar=dict(\n",
    "                title='Z Axis Colorbar Title'\n",
    "            )\n",
    "        ),\n",
    "        hovertemplate='x: %{x}<br>y: %{y}<br>z: %{z}<br>color: %{marker.color}<extra></extra>'\n",
    "    )])\n",
    "\n",
    "    # Add axis labels\n",
    "    fig.update_layout(width=1000, height=800, scene=dict(xaxis_title=x, yaxis_title=y, zaxis_title=z))\n",
    "\n",
    "    # Show the plot\n",
    "    fig.show()"
   ]
  }
 ],
 "metadata": {
  "kernelspec": {
   "display_name": "Python 3 (ipykernel)",
   "language": "python",
   "name": "python3"
  },
  "language_info": {
   "codemirror_mode": {
    "name": "ipython",
    "version": 3
   },
   "file_extension": ".py",
   "mimetype": "text/x-python",
   "name": "python",
   "nbconvert_exporter": "python",
   "pygments_lexer": "ipython3",
   "version": "3.9.13"
  }
 },
 "nbformat": 4,
 "nbformat_minor": 5
}
