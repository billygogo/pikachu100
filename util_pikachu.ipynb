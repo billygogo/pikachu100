{
 "cells": [
  {
   "cell_type": "markdown",
   "id": "2083fac3-47e4-47a4-b4d8-e8db08730f6d",
   "metadata": {},
   "source": [
    "1. draw3D 데이타 폼에 대해서 컬럼 x,y,z를 축으로 3차원 그래프를 그려주는 함수¶\n",
    "설치 방법 pip install plotly\n",
    "호출방법: draw3D(df,'num','day','use_electric','echo_type')"
   ]
  },
  {
   "cell_type": "code",
   "execution_count": 2,
   "id": "0c837b99-bb71-4f4d-a8a3-10c673dd9fa1",
   "metadata": {},
   "outputs": [],
   "source": [
    "def draw3D(df, x, y, z, coloraxis = None):\n",
    "    import plotly.graph_objs as go\n",
    "    import numpy as np\n",
    "\n",
    "    # Create some random data\n",
    "    n = 100\n",
    "    # Define the color map\n",
    "    #colorscale = [[0, 'blue'], [1./3, 'green'], [2./3, 'red'], [1, 'blue']]\n",
    "    colorscale = ['#000000', '#6b0707', '#ec8109', '#ecc509', '#76ec09', '#09a8ec']\n",
    "\n",
    "    if (coloraxis == None):\n",
    "        coloraxis = z\n",
    "    # Create the scatter plot with z-axis colored\n",
    "    fig = go.Figure(data=[go.Scatter3d(\n",
    "        x=df[x],\n",
    "        y=df[y],\n",
    "        z=df[z],\n",
    "        mode='markers',\n",
    "        marker=dict(\n",
    "            size=2,\n",
    "            color=df[coloraxis],\n",
    "            colorscale=colorscale,\n",
    "            opacity=0.8,\n",
    "            colorbar=dict(\n",
    "                title='Z Axis Colorbar Title'\n",
    "            )\n",
    "        ),\n",
    "        hovertemplate='x: %{x}<br>y: %{y}<br>z: %{z}<br>color: %{marker.color}<extra></extra>'\n",
    "    )])\n",
    "\n",
    "    # Add axis labels\n",
    "    fig.update_layout(width=1000, height=800, scene=dict(xaxis_title=x, yaxis_title=y, zaxis_title=z))\n",
    "\n",
    "    # Show the plot\n",
    "    fig.show()"
   ]
  },
  {
   "cell_type": "code",
   "execution_count": null,
   "id": "38d8dde6-e57c-4bc3-a49b-cb497737dbe4",
   "metadata": {},
   "outputs": [],
   "source": []
  },
  {
   "cell_type": "markdown",
   "id": "4a7dd753-792c-4d6e-9501-ab5ae15587fb",
   "metadata": {},
   "source": [
    "## 예제 코드 전력데이타 예제를 기본으로 합니다. "
   ]
  },
  {
   "cell_type": "code",
   "execution_count": null,
   "id": "b40c2c88-2222-4714-a540-fdd92c485912",
   "metadata": {},
   "outputs": [],
   "source": [
    "train['month_day'] =  train['date'].astype(str).str[:10] ## 2020-06-01"
   ]
  },
  {
   "cell_type": "code",
   "execution_count": null,
   "id": "49a1392d-ddc5-455c-a315-aa2344e33c52",
   "metadata": {},
   "outputs": [],
   "source": [
    "#예제 \n",
    "\n",
    "data = train['use_electric'].groupby([train['num'], train['month_day']]).sum()\n",
    "df=data.reset_index()\n",
    "\n",
    "this_num_from=1\n",
    "this_num_to=10\n",
    "display= df[(df['num']>=this_num_from) & (df['num']<=this_num_to)]\n",
    "draw3D(display,'num','month_day','use_electric')\n",
    "\n"
   ]
  }
 ],
 "metadata": {
  "kernelspec": {
   "display_name": "Python 3 (ipykernel)",
   "language": "python",
   "name": "python3"
  },
  "language_info": {
   "codemirror_mode": {
    "name": "ipython",
    "version": 3
   },
   "file_extension": ".py",
   "mimetype": "text/x-python",
   "name": "python",
   "nbconvert_exporter": "python",
   "pygments_lexer": "ipython3",
   "version": "3.9.13"
  }
 },
 "nbformat": 4,
 "nbformat_minor": 5
}
