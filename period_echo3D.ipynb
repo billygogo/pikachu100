{
 "cells": [
  {
   "cell_type": "code",
   "execution_count": null,
   "id": "6ac123f5-5a16-4ad5-809d-493957722e0f",
   "metadata": {},
   "outputs": [],
   "source": [
    "train['month_day'] = train['date'].astype(str).str[:10] ## 2020-06-01\n",
    "train['echo_type'] = train['operation'] + train['solar_power']*2 ##  0: 아무것도 없음 1: operation만 2:solar_system만 3: operation과 solar_system 둘다"
   ]
  },
  {
   "cell_type": "markdown",
   "id": "71f37c51-a134-45fd-8d0b-e8514ad4eedd",
   "metadata": {},
   "source": [
    "# echo_type 별로 구별해 보자.\n",
    "1. -자형데이타\n",
    "2. -자형 끝산발 데이타\n",
    "3. =자형데이타\n",
    "4. =자 산발데이타\n",
    "5. 산발형 데이타"
   ]
  },
  {
   "cell_type": "code",
   "execution_count": null,
   "id": "0466b1ab-3a01-4493-b96b-399823ef9cf9",
   "metadata": {},
   "outputs": [],
   "source": [
    "#1. -자형데이타\n",
    "_type =[1,3,9,18,19,21,31,32,33,36,39]\n",
    "display = train[train['num'].isin(_type)==True]\n",
    "draw3D(display,'num','month_day','use_electric','echo_type')"
   ]
  },
  {
   "cell_type": "code",
   "execution_count": null,
   "id": "34a993ee-b0a2-4549-bc50-5769ae156e86",
   "metadata": {},
   "outputs": [],
   "source": [
    "#2. -자형 산발 데이타 \n",
    "_type =[10,28,34,35,39,40,49,50,51,58,59,60]\n",
    "display = train[train['num'].isin(_type)==True]\n",
    "draw3D(display,'num','month_day','use_electric','echo_type')\n"
   ]
  },
  {
   "cell_type": "code",
   "execution_count": null,
   "id": "cd0e4d50-24c3-4f91-9e07-80c1e09d79aa",
   "metadata": {},
   "outputs": [],
   "source": [
    "# =자형  데이타 \n",
    "_type =[2,6,7,13,16,18,22,25,26,27,37,41,45,46,47,48,52,53,56]\n",
    "display = train[train['num'].isin(_type)==True]\n",
    "draw3D(display,'num','month_day','use_electric','echo_type')"
   ]
  },
  {
   "cell_type": "code",
   "execution_count": null,
   "id": "52be43c6-eece-4248-96c0-f84c89dc9ae1",
   "metadata": {},
   "outputs": [],
   "source": [
    "# =자형 산발 데이타 \n",
    "_type =[8,14,15,23,24,38,29,54,55,57]\n",
    "display = train[train['num'].isin(_type)==True]\n",
    "draw3D(display,'num','month_day','use_electric','echo_type')"
   ]
  },
  {
   "cell_type": "code",
   "execution_count": null,
   "id": "2ba913a1-b7c6-4106-815a-becea4739fcd",
   "metadata": {},
   "outputs": [],
   "source": [
    "# 산발 데이타 \n",
    "_type =[4,5,11,12,20,42,43,44]\n",
    "display = train[train['num'].isin(_type)==True]\n",
    "draw3D(display,'num','month_day','use_electric','echo_type')"
   ]
  },
  {
   "cell_type": "code",
   "execution_count": null,
   "id": "90af4921-b852-47e3-bfa6-3b933bcce63f",
   "metadata": {},
   "outputs": [],
   "source": []
  }
 ],
 "metadata": {
  "kernelspec": {
   "display_name": "Python 3 (ipykernel)",
   "language": "python",
   "name": "python3"
  },
  "language_info": {
   "codemirror_mode": {
    "name": "ipython",
    "version": 3
   },
   "file_extension": ".py",
   "mimetype": "text/x-python",
   "name": "python",
   "nbconvert_exporter": "python",
   "pygments_lexer": "ipython3",
   "version": "3.9.13"
  }
 },
 "nbformat": 4,
 "nbformat_minor": 5
}
